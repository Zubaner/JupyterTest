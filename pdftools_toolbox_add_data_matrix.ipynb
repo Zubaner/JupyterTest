{
  "cells": [
    {
      "cell_type": "markdown",
      "id": "4e23d175",
      "metadata": {},
      "source": [
        "[![Open In Colab](https://colab.research.google.com/assets/colab-badge.svg)](https://colab.research.google.com/github.com/Zubaner/JupyterTest/blob/main/pdftools_toolbox_add_annotations.ipynb)"
      ]
    },
    {
      "cell_type": "code",
      "execution_count": null,
      "id": "cd1a154b-12d7-404e-8301-1a01e0375f0a",
      "metadata": {
        "id": "554a4b69-8974-47c4-92a3-368f4166fac3"
      },
      "outputs": [],
      "source": [
        "%pip install https://pdftools-public-downloads-production.s3.eu-west-1.amazonaws.com/productkits/PDFSDKXT/latest/pdftools_toolbox-latest.tar.gz\n",
        "%pip install ipython"
      ]
    },
    {
      "cell_type": "markdown",
      "id": "2d32654a-647f-4c95-a8b7-d8ffb1560f95",
      "metadata": {
        "id": "9b1c80fc-e1c3-4c0d-bafc-314128d1476a"
      },
      "source": [
        "# Add Data Matrix to PDF\n",
        "Add a two-dimensional barcode from an existing image on\n",
        "the first page of a PDF document."
      ]
    },
    {
      "cell_type": "code",
      "execution_count": null,
      "id": "eadf1452-4866-41df-b49f-7f9d8e732fe0",
      "metadata": {
        "id": "b301c0df-02eb-4ac5-aa38-a1fdf9591d09"
      },
      "outputs": [],
      "source": [
        "import io\n",
        "from pdftools_toolbox.pdf import Document, FileReference, Metadata, Page, PageCopyOptions, PageList\n",
        "from pdftools_toolbox.geometry.real import Rectangle\n",
        "from pdftools_toolbox.pdf.content import ContentGenerator, IccBasedColorSpace, Image\n",
        "from pdftools_toolbox.pdf.navigation import ViewerSettings"
      ]
    },
    {
      "cell_type": "code",
      "execution_count": null,
      "id": "7427190f-7cc3-40f2-854e-6aafb2466391",
      "metadata": {
        "id": "7acc3675-bdf1-4ab0-ba0a-0d4594525029"
      },
      "outputs": [],
      "source": [
        "# Download a file from a given URL and save it to the local system\n",
        "def prepare_file(url: str, path: str):\n",
        "    import requests\n",
        "    response = requests.get(url)\n",
        "    response.raise_for_status()\n",
        "\n",
        "    with open(path, 'wb') as f:\n",
        "        f.write(response.content)"
      ]
    },
    {
      "cell_type": "code",
      "execution_count": null,
      "id": "4ef1e287-8d9b-459e-8a1a-ea84e5c31cf6",
      "metadata": {
        "id": "15489229-507f-4570-90db-8af27f15662c"
      },
      "outputs": [],
      "source": [
        "# Set input arguments\n",
        "input_url = 'https://pdftools-public-downloads-production.s3.eu-west-1.amazonaws.com/samples/testfiles/InvoiceNone.pdf'\n",
        "input_file_path = 'InvoiceNone.pdf'\n",
        "prepare_file(input_url, input_file_path)\n",
        "data_matrix_url = 'https://pdftools-public-downloads-production.s3.eu-west-1.amazonaws.com/samples/testfiles/DataMatrix.png'\n",
        "data_matrix_path = 'DataMatrix.png'\n",
        "prepare_file(data_matrix_url, data_matrix_path)\n",
        "output_file_path = 'InvoiceWithDataMatrix.pdf'"
      ]
    },
    {
      "cell_type": "code",
      "execution_count": null,
      "id": "02314501-0324-4e98-b80a-d52fb46bf986",
      "metadata": {
        "id": "dfc03edc-d461-4694-8e91-819b41018ca4"
      },
      "outputs": [],
      "source": [
        "def copy_document_data(in_doc: Document, out_doc: Document):\n",
        "    # Copy document-wide data\n",
        "\n",
        "    # Output intent\n",
        "    if in_doc.output_intent is not None:\n",
        "        in_doc.output_intent = IccBasedColorSpace.copy(out_doc, in_doc.output_intent)\n",
        "\n",
        "    # Metadata\n",
        "    out_doc.metadata = Metadata.copy(out_doc, in_doc.metadata)\n",
        "\n",
        "    # Viewer settings\n",
        "    out_doc.viewer_settings = ViewerSettings.copy(out_doc, in_doc.viewer_settings)\n",
        "\n",
        "    # Associated files (for PDF/A-3 and PDF 2.0 only)\n",
        "    outAssociatedFiles = out_doc.associated_files\n",
        "    for in_file_ref in in_doc.associated_files:\n",
        "        outAssociatedFiles.append(FileReference.copy(out_doc, in_file_ref))\n",
        "\n",
        "    # Plain embedded files\n",
        "    out_embedded_files = out_doc.plain_embedded_files\n",
        "    for in_file_ref in in_doc.plain_embedded_files:\n",
        "        out_embedded_files.append(FileReference.copy(out_doc, in_file_ref))"
      ]
    },
    {
      "cell_type": "code",
      "execution_count": null,
      "id": "7431334c-345b-4bfe-ad05-4c01a154a456",
      "metadata": {
        "id": "ef0e2279-4e51-4dcf-842a-b2d5164b4630"
      },
      "outputs": [],
      "source": [
        "def add_data_matrix(document: Document, page: Page, data_matrix_path: str):\n",
        "    # Create content generator\n",
        "    with ContentGenerator(page.content, False) as generator:\n",
        "\n",
        "        #  Import data matrix\n",
        "        with io.FileIO(data_matrix_path, 'rb') as in_matrix_stream:\n",
        "\n",
        "            # Create image object for data matrix\n",
        "            data_matrix = Image.create(document, in_matrix_stream)\n",
        "\n",
        "            # Data matrix size\n",
        "            data_matrix_size = 85\n",
        "\n",
        "            # Calculate Rectangle for data matrix\n",
        "            rect = Rectangle(left=border, bottom=page.size.height - (data_matrix_size + border), right=data_matrix_size + border, top=page.size.height - border)\n",
        "\n",
        "        # Paint the positioned barcode text\n",
        "        generator.paint_image(data_matrix, rect)"
      ]
    },
    {
      "cell_type": "code",
      "execution_count": null,
      "id": "041c2d46-6995-4e82-b98b-e76c6b598e3e",
      "metadata": {
        "id": "06025f6c-2f85-447c-8fd2-e45bdbf4c5aa"
      },
      "outputs": [],
      "source": [
        "try:\n",
        "    # Set and check license key. If the license key is not valid, an exception is thrown.\n",
        "    from pdftools_toolbox.sdk import Sdk\n",
        "    Sdk.initialize(\"<PDFSDK,V1,MGAASQD6L2JMQHL54PK08RQX8GG4SS0M8DAHVPH0VMP3NB8R9DUK>\", None)\n",
        "\n",
        "    # Define border\n",
        "    border = 40\n",
        "    \n",
        "    # Open input document\n",
        "    with io.FileIO(input_file_path, 'rb') as in_stream:\n",
        "        with Document.open(in_stream, None) as in_doc:\n",
        "    \n",
        "            # Create output document\n",
        "            with io.FileIO(output_file_path, 'wb+') as output_stream:\n",
        "                with Document.create(output_stream, in_doc.conformance, None) as out_doc:\n",
        "    \n",
        "                    # Copy document-wide data\n",
        "                    copy_document_data(in_doc, out_doc)\n",
        "    \n",
        "                    # Define page copy options\n",
        "                    copy_options = PageCopyOptions()\n",
        "    \n",
        "                    # Copy first page, add datamatrix image, and append to output document\n",
        "                    out_page = Page.copy(out_doc, in_doc.pages[0], copy_options)\n",
        "                    add_data_matrix(out_doc, out_page, data_matrix_path)\n",
        "                    out_doc.pages.append(out_page)\n",
        "    \n",
        "                    # Copy remaining pages and append to output document\n",
        "                    in_page_range = in_doc.pages[1:]\n",
        "                    copied_pages = PageList.copy(out_doc, in_page_range, copy_options)\n",
        "                    out_doc.pages.extend(copied_pages)\n",
        "\n",
        "    print(\"Execution successful.\")\n",
        "except Exception as e:\n",
        "    print(f\"An error occurred: {e}\")"
      ]
    }
  ],
  "metadata": {
    "colab": {
      "provenance": []
    },
    "kernelspec": {
      "display_name": "Python 3",
      "language": "python",
      "name": "python3"
    },
    "language_info": {
      "codemirror_mode": {
        "name": "ipython",
        "version": 3
      },
      "file_extension": ".py",
      "mimetype": "text/x-python",
      "name": "python",
      "nbconvert_exporter": "python",
      "pygments_lexer": "ipython3",
      "version": "3.12.8"
    }
  },
  "nbformat": 4,
  "nbformat_minor": 5
}
