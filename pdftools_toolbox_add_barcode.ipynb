{
  "cells": [
    {
      "cell_type": "markdown",
      "id": "0024a360",
      "metadata": {},
      "source": [
        "[![Open In Colab](https://colab.research.google.com/assets/colab-badge.svg)](https://colab.research.google.com/github/Zubaner/JupyterTest/blob/main/pdftools_toolbox_add_annotations.ipynb)"
      ]
    },
    {
      "cell_type": "code",
      "execution_count": null,
      "id": "e11fc70f-b8a3-42c3-88af-1ab9f98ae83a",
      "metadata": {
        "id": "9e57bd85-bab3-4c55-8ea7-e19e695f1b0c"
      },
      "outputs": [],
      "source": [
        "%pip install https://pdftools-public-downloads-production.s3.eu-west-1.amazonaws.com/productkits/PDFSDKXT/latest/pdftools_toolbox-latest.tar.gz\n",
        "%pip install ipython"
      ]
    },
    {
      "cell_type": "markdown",
      "id": "487ec0b8-8a8e-41b7-b2de-1991f7061987",
      "metadata": {
        "id": "427e7d00-ee73-498a-8ec1-80a9115a39d4"
      },
      "source": [
        "# Add barcode to PDF\n",
        "Generate and add a barcode at a specified position on the\n",
        "first page of a PDF document."
      ]
    },
    {
      "cell_type": "code",
      "execution_count": null,
      "id": "86faee18-4151-437e-a716-fb976a3b564c",
      "metadata": {
        "id": "205179f0-d560-4420-bad3-9d6c117d599c"
      },
      "outputs": [],
      "source": [
        "import io\n",
        "from pdftools_toolbox.pdf import Document, FileReference, Metadata, Page, PageCopyOptions, PageList\n",
        "from pdftools_toolbox.geometry.real import Point\n",
        "from pdftools_toolbox.pdf.content import ContentGenerator, Font, IccBasedColorSpace, Text, TextGenerator\n",
        "from pdftools_toolbox.pdf.navigation import ViewerSettings"
      ]
    },
    {
      "cell_type": "code",
      "execution_count": null,
      "id": "b311c905-af22-4831-9777-cae7a362de37",
      "metadata": {
        "id": "51992fe6-049e-484f-8194-a75de0fdb9f5"
      },
      "outputs": [],
      "source": [
        "# Download a file from a given URL and save it to the local system\n",
        "def prepare_file(url: str, path: str):\n",
        "    import requests\n",
        "    response = requests.get(url)\n",
        "    response.raise_for_status()\n",
        "\n",
        "    with open(path, 'wb') as f:\n",
        "        f.write(response.content)"
      ]
    },
    {
      "cell_type": "code",
      "execution_count": null,
      "id": "7ef909e6-8b05-41a0-9b1b-4557a20ea642",
      "metadata": {
        "id": "6149b419-7087-4155-b1c1-82953e199ad5"
      },
      "outputs": [],
      "source": [
        "# Set input arguments\n",
        "input_url = 'https://pdftools-public-downloads-production.s3.eu-west-1.amazonaws.com/samples/testfiles/BlankNoneNoTP.pdf'\n",
        "input_file_path = 'BlankNoneNoTP.pdf'\n",
        "prepare_file(input_url, input_file_path)\n",
        "barcode = \"PDF123\"\n",
        "font_url = 'https://pdftools-public-downloads-production.s3.eu-west-1.amazonaws.com/samples/testfiles/free3of9.ttf'\n",
        "font_path = 'free3of9.ttf'\n",
        "prepare_file(font_url, font_path)\n",
        "output_file_path = 'BlankWithBarcode.pdf'"
      ]
    },
    {
      "cell_type": "code",
      "execution_count": null,
      "id": "d2c7332b-092a-4a7a-9f62-52343ca60664",
      "metadata": {
        "id": "32955c94-98f4-4017-a7c9-994a9591a9fb"
      },
      "outputs": [],
      "source": [
        "def copy_document_data(in_doc: Document, out_doc: Document):\n",
        "    # Copy document-wide data\n",
        "\n",
        "    # Output intent\n",
        "    if in_doc.output_intent is not None:\n",
        "        in_doc.output_intent = IccBasedColorSpace.copy(out_doc, in_doc.output_intent)\n",
        "\n",
        "    # Metadata\n",
        "    out_doc.metadata = Metadata.copy(out_doc, in_doc.metadata)\n",
        "\n",
        "    # Viewer settings\n",
        "    out_doc.viewer_settings = ViewerSettings.copy(out_doc, in_doc.viewer_settings)\n",
        "\n",
        "    # Associated files (for PDF/A-3 and PDF 2.0 only)\n",
        "    outAssociatedFiles = out_doc.associated_files\n",
        "    for in_file_ref in in_doc.associated_files:\n",
        "        outAssociatedFiles.append(FileReference.copy(out_doc, in_file_ref))\n",
        "\n",
        "    # Plain embedded files\n",
        "    out_embedded_files = out_doc.plain_embedded_files\n",
        "    for in_file_ref in in_doc.plain_embedded_files:\n",
        "        out_embedded_files.append(FileReference.copy(out_doc, in_file_ref))"
      ]
    },
    {
      "cell_type": "code",
      "execution_count": null,
      "id": "734fe76f-9d34-4068-9f1c-9cbc553a3e2b",
      "metadata": {
        "id": "a7a98ac2-7cca-4463-b491-b4917e1e78ca"
      },
      "outputs": [],
      "source": [
        "def add_barcode(out_doc: Document, out_page: Page, barcode: str, font: Font, font_size: float):\n",
        "    # Create content generator\n",
        "    with ContentGenerator(out_page.content, False) as gen:\n",
        "        # Create text object\n",
        "        barcode_text = Text.create(out_doc)\n",
        "\n",
        "        #  Create text generator\n",
        "        with TextGenerator(barcode_text, font, font_size, None) as text_generator:\n",
        "            # Calculate position\n",
        "            position = Point(x=out_page.size.width - (text_generator.get_width(barcode) + border), \n",
        "                             y=out_page.size.height - (font_size * (font.ascent + font.descent) + border))\n",
        "\n",
        "            # Move to position\n",
        "            text_generator.move_to(position)\n",
        "            # Add given barcode string\n",
        "            text_generator.show_line(barcode)\n",
        "\n",
        "        # Paint the positioned barcode text\n",
        "        gen.paint_text(barcode_text)"
      ]
    },
    {
      "cell_type": "code",
      "execution_count": null,
      "id": "f875b2d8-8fc0-4996-b7b1-786986827f63",
      "metadata": {
        "id": "acfbdc72-bff0-412e-b072-7acb6345814b"
      },
      "outputs": [],
      "source": [
        "try:\n",
        "    # Set and check license key. If the license key is not valid, an exception is thrown.\n",
        "    from pdftools_toolbox.sdk import Sdk\n",
        "    Sdk.initialize(\"<PDFSDK,V1,MGAASQD6L2JMQHL54PK08RQX8GG4SS0M8DAHVPH0VMP3NB8R9DUK>\", None)\n",
        "\n",
        "    # Define border\n",
        "    border = 20\n",
        "    \n",
        "    # Open input document\n",
        "    with io.FileIO(input_file_path, 'rb') as in_stream:\n",
        "        with Document.open(in_stream, None) as in_doc:\n",
        "    \n",
        "            # Create font stream\n",
        "            with io.FileIO(font_path, 'rb') as font_stream:\n",
        "    \n",
        "                # Create output document\n",
        "                with io.FileIO(output_file_path, 'wb+') as output_stream:\n",
        "                    with Document.create(output_stream, in_doc.conformance, None) as out_doc:\n",
        "    \n",
        "                        # Copy document-wide data\n",
        "                        copy_document_data(in_doc, out_doc)\n",
        "    \n",
        "                        # Create embedded font in output document\n",
        "                        font = Font.create(out_doc, font_stream, True)\n",
        "    \n",
        "                        # Define page copy options\n",
        "                        copy_options = PageCopyOptions()\n",
        "    \n",
        "                        # Copy first page, add barcode, and append to output document\n",
        "                        out_page = Page.copy(out_doc, in_doc.pages[0], copy_options)\n",
        "                        add_barcode(out_doc, out_page, barcode, font, 50.0)\n",
        "                        out_doc.pages.append(out_page)\n",
        "    \n",
        "                        # Copy remaining pages and append to output document\n",
        "                        in_page_range = in_doc.pages[1:]\n",
        "                        copied_pages = PageList.copy(out_doc, in_page_range, copy_options)\n",
        "                        out_doc.pages.extend(copied_pages)\n",
        "\n",
        "    print(\"Execution successful.\")\n",
        "except Exception as e:\n",
        "    print(f\"An error occurred: {e}\")"
      ]
    }
  ],
  "metadata": {
    "colab": {
      "provenance": []
    },
    "kernelspec": {
      "display_name": "Python 3",
      "language": "python",
      "name": "python3"
    },
    "language_info": {
      "codemirror_mode": {
        "name": "ipython",
        "version": 3
      },
      "file_extension": ".py",
      "mimetype": "text/x-python",
      "name": "python",
      "nbconvert_exporter": "python",
      "pygments_lexer": "ipython3",
      "version": "3.12.8"
    }
  },
  "nbformat": 4,
  "nbformat_minor": 5
}
